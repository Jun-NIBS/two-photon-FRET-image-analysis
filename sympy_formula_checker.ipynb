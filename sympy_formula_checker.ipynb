{
 "cells": [
  {
   "cell_type": "markdown",
   "metadata": {},
   "source": [
    "## Check your equations here\n",
    "### Writing long equations can be error-prone. Here is a quick and dirty way to check if your coded equations are mathematically correct by typesetting them using Symbolic Python's built-in MatJax typesetter"
   ]
  },
  {
   "cell_type": "code",
   "execution_count": 1,
   "metadata": {},
   "outputs": [
    {
     "name": "stdout",
     "output_type": "stream",
     "text": [
      "\n",
      "Welcome to pylab, a matplotlib-based Python environment [backend: module://IPython.zmq.pylab.backend_inline].\n",
      "For more information, type 'help(pylab)'.\n",
      "IPython console for SymPy 0.7.4 (Python 2.7.5-32-bit) (ground types: python)\n",
      "\n",
      "These commands were executed:\n",
      ">>> from __future__ import division\n",
      ">>> from sympy import *\n",
      ">>> x, y, z, t = symbols('x y z t')\n",
      ">>> k, m, n = symbols('k m n', integer=True)\n",
      ">>> f, g, h = symbols('f g h', cls=Function)\n",
      "\n",
      "Documentation can be found at http://www.sympy.org\n"
     ]
    },
    {
     "data": {
      "image/png": "[encoded data removed]",
      "text/latex": [
       "$$\\gamma = \\frac{E}{-1 + \\frac{\\eta \\left(- \\alpha + \\theta\\right) \\left(- I_{d} \\beta + I_{f}\\right)}{\\alpha \\left(- \\beta + \\eta\\right) \\left(I_{a} \\theta - I_{f}\\right)}}$$"
      ],
      "text/plain": [
       "                  E               \n",
       "γ = ──────────────────────────────\n",
       "         η⋅(-α + θ)⋅(-I_d⋅β + I_f)\n",
       "    -1 + ─────────────────────────\n",
       "          α⋅(-β + η)⋅(Iₐ⋅θ - I_f) "
      ]
     },
     "execution_count": 1,
     "metadata": {},
     "output_type": "execute_result"
    }
   ],
   "source": [
    "from sympy import init_session\n",
    "init_session() \n",
    "E, alpha, beta, gamma, eta, theta, Ia_c, Id_c, If_c,xi,Fd,Fa = symbols('E alpha beta gamma eta theta I_a I_d I_f xi F_d F_a')\n",
    "Eq(gamma, E/( ( eta*(If_c-beta*Id_c)/(eta-beta) ) / ( alpha*(theta*Ia_c-If_c)/(theta-alpha) ) -1 ))"
   ]
  },
  {
   "cell_type": "code",
   "execution_count": 18,
   "metadata": {},
   "outputs": [
    {
     "data": {
      "image/png": "[encoded data removed]",
      "text/latex": [
       "$$\\xi = \\frac{E \\gamma \\left(I_{d} \\eta - I_{f}\\right)}{\\left(- E + 1\\right) \\left(- \\beta + \\eta\\right) \\left(- \\frac{I_{a} \\alpha \\theta}{- \\alpha + \\theta} - \\frac{I_{d} \\beta \\eta}{- \\beta + \\eta} + \\frac{I_{f} \\left(- \\alpha \\beta + \\eta \\theta\\right)}{\\left(- \\alpha + \\theta\\right) \\left(- \\beta + \\eta\\right)}\\right)}$$"
      ],
      "text/plain": [
       "                        E⋅γ⋅(I_d⋅η - I_f)                     \n",
       "ξ = ──────────────────────────────────────────────────────────\n",
       "                      ⎛  Iₐ⋅α⋅θ   I_d⋅β⋅η    I_f⋅(-α⋅β + η⋅θ)⎞\n",
       "    (-E + 1)⋅(-β + η)⋅⎜- ────── - ─────── + ─────────────────⎟\n",
       "                      ⎝  -α + θ    -β + η   (-α + θ)⋅(-β + η)⎠"
      ]
     },
     "execution_count": 18,
     "metadata": {},
     "output_type": "execute_result"
    }
   ],
   "source": [
    "Eq(xi,( gamma*E/(1-E)*(eta*Id_c-If_c)/(eta-beta) )/(( (eta*theta-beta*alpha)/((theta-alpha)*(eta-beta)) )*If_c-(eta*beta/(eta-beta))*Id_c-(alpha*theta/(theta-alpha))*Ia_c))"
   ]
  },
  {
   "cell_type": "code",
   "execution_count": 19,
   "metadata": {},
   "outputs": [
    {
     "data": {
      "image/png": "[encoded data removed]",
      "text/latex": [
       "$$F_{d} = \\frac{1}{E} \\left(1 - \\frac{I_{d} \\eta - I_{f}}{\\left(- \\beta + \\eta\\right) \\left(\\frac{I_{d} \\eta - I_{f}}{- \\beta + \\eta} + \\frac{\\xi}{\\gamma} \\left(- \\frac{I_{a} \\alpha \\theta}{- \\alpha + \\theta} - \\frac{I_{d} \\beta \\eta}{- \\beta + \\eta} + \\frac{I_{f} \\left(- \\alpha \\beta + \\eta \\theta\\right)}{\\left(- \\alpha + \\theta\\right) \\left(- \\beta + \\eta\\right)}\\right)\\right)}\\right)$$"
      ],
      "text/plain": [
       "                                      I_d⋅η - I_f                            \n",
       "      1 - ───────────────────────────────────────────────────────────────────\n",
       "                   ⎛                ⎛  Iₐ⋅α⋅θ   I_d⋅β⋅η    I_f⋅(-α⋅β + η⋅θ)⎞⎞\n",
       "                   ⎜              ξ⋅⎜- ────── - ─────── + ─────────────────⎟⎟\n",
       "                   ⎜I_d⋅η - I_f     ⎝  -α + θ    -β + η   (-α + θ)⋅(-β + η)⎠⎟\n",
       "          (-β + η)⋅⎜─────────── + ──────────────────────────────────────────⎟\n",
       "                   ⎝   -β + η                         γ                     ⎠\n",
       "F_d = ───────────────────────────────────────────────────────────────────────\n",
       "                                         E                                   "
      ]
     },
     "execution_count": 19,
     "metadata": {},
     "output_type": "execute_result"
    }
   ],
   "source": [
    "Eq(Fd,1/E*(1-((eta*Id_c-If_c)/(eta-beta))/(xi/gamma*((eta*theta-beta*alpha)/((theta-alpha)*(eta-beta))*If_c - eta*beta/(eta-beta)*Id_c - alpha*theta/(theta-alpha)*Ia_c) + (eta*Id_c-If_c)/(eta-beta))))"
   ]
  },
  {
   "cell_type": "code",
   "execution_count": 21,
   "metadata": {},
   "outputs": [
    {
     "data": {
      "image/png": "[encoded data removed]",
      "text/latex": [
       "$$F_{a} = \\frac{\\gamma}{E} \\left(-1 + \\frac{\\eta \\left(- \\alpha + \\theta\\right) \\left(- I_{d} \\beta + I_{f}\\right)}{\\alpha \\left(- \\beta + \\eta\\right) \\left(I_{a} \\theta - I_{f}\\right)}\\right)$$"
      ],
      "text/plain": [
       "       ⎛     η⋅(-α + θ)⋅(-I_d⋅β + I_f)⎞\n",
       "     γ⋅⎜-1 + ─────────────────────────⎟\n",
       "       ⎝      α⋅(-β + η)⋅(Iₐ⋅θ - I_f) ⎠\n",
       "Fₐ = ──────────────────────────────────\n",
       "                     E                 "
      ]
     },
     "execution_count": 21,
     "metadata": {},
     "output_type": "execute_result"
    }
   ],
   "source": [
    "Eq(Fa,gamma*( ( eta*(If_c-beta*Id_c)/(eta-beta) ) / ( alpha*(theta*Ia_c-If_c)/(theta-alpha) ) -1 )/E)"
   ]
  },
  {
   "cell_type": "code",
   "execution_count": 3,
   "metadata": {},
   "outputs": [
    {
     "data": {
      "image/png": "[encoded data removed]",
      "text/latex": [
       "$$\\xi = \\frac{E \\gamma \\left(I_{d} \\eta - I_{f}\\right)}{\\left(- E + 1\\right) \\left(- \\beta + \\eta\\right) \\left(- \\frac{I_{a} \\alpha \\theta}{- \\alpha + \\theta} - \\frac{I_{d} \\beta \\eta}{- \\beta + \\eta} + \\frac{I_{f} \\left(- \\alpha \\beta + \\eta \\theta\\right)}{\\left(- \\alpha + \\theta\\right) \\left(- \\beta + \\eta\\right)}\\right)}$$"
      ],
      "text/plain": [
       "                        E⋅γ⋅(I_d⋅η - I_f)                     \n",
       "ξ = ──────────────────────────────────────────────────────────\n",
       "                      ⎛  Iₐ⋅α⋅θ   I_d⋅β⋅η    I_f⋅(-α⋅β + η⋅θ)⎞\n",
       "    (-E + 1)⋅(-β + η)⋅⎜- ────── - ─────── + ─────────────────⎟\n",
       "                      ⎝  -α + θ    -β + η   (-α + θ)⋅(-β + η)⎠"
      ]
     },
     "execution_count": 3,
     "metadata": {},
     "output_type": "execute_result"
    }
   ],
   "source": [
    "Eq(xi,gamma*E/(1-E)/(eta-beta)* np.divide(eta*Id_c-If_c,( (eta*theta-beta*alpha)/((theta-alpha)*(eta-beta)) )*If_c-(eta*beta/(eta-beta))*Id_c-(alpha*theta/(theta-alpha))*Ia_c))"
   ]
  },
  {
   "cell_type": "code",
   "execution_count": 5,
   "metadata": {},
   "outputs": [
    {
     "data": {
      "image/png": "[encoded data removed]",
      "text/latex": [
       "$$F_{d} = \\frac{1}{E} \\left(1 - \\frac{I_{d} \\eta - I_{f}}{\\left(- \\beta + \\eta\\right) \\left(\\frac{I_{d} \\eta - I_{f}}{- \\beta + \\eta} + \\frac{\\xi}{\\gamma} \\left(- \\frac{I_{a} \\alpha \\theta}{- \\alpha + \\theta} - \\frac{I_{d} \\beta \\eta}{- \\beta + \\eta} + \\frac{I_{f} \\left(- \\alpha \\beta + \\eta \\theta\\right)}{\\left(- \\alpha + \\theta\\right) \\left(- \\beta + \\eta\\right)}\\right)\\right)}\\right)$$"
      ],
      "text/plain": [
       "                                      I_d⋅η - I_f                            \n",
       "      1 - ───────────────────────────────────────────────────────────────────\n",
       "                   ⎛                ⎛  Iₐ⋅α⋅θ   I_d⋅β⋅η    I_f⋅(-α⋅β + η⋅θ)⎞⎞\n",
       "                   ⎜              ξ⋅⎜- ────── - ─────── + ─────────────────⎟⎟\n",
       "                   ⎜I_d⋅η - I_f     ⎝  -α + θ    -β + η   (-α + θ)⋅(-β + η)⎠⎟\n",
       "          (-β + η)⋅⎜─────────── + ──────────────────────────────────────────⎟\n",
       "                   ⎝   -β + η                         γ                     ⎠\n",
       "F_d = ───────────────────────────────────────────────────────────────────────\n",
       "                                         E                                   "
      ]
     },
     "execution_count": 5,
     "metadata": {},
     "output_type": "execute_result"
    }
   ],
   "source": [
    "Eq(Fd,1/E*(1-np.divide((eta*Id_c-If_c)/(eta-beta),xi/gamma*((eta*theta-beta*alpha)/((theta-alpha)*(eta-beta))*If_c - eta*beta/(eta-beta)*Id_c - alpha*theta/(theta-alpha)*Ia_c) + (eta*Id_c-If_c)/(eta-beta))))"
   ]
  },
  {
   "cell_type": "code",
   "execution_count": 9,
   "metadata": {},
   "outputs": [
    {
     "data": {
      "image/png": "[encoded data removed]",
      "text/latex": [
       "$$F_{a} = \\frac{\\gamma}{E} \\left(-1 + \\frac{\\eta \\left(- \\alpha + \\theta\\right) \\left(- I_{d} \\beta + I_{f}\\right)}{\\alpha \\left(- \\beta + \\eta\\right) \\left(I_{a} \\theta - I_{f}\\right)}\\right)$$"
      ],
      "text/plain": [
       "       ⎛     η⋅(-α + θ)⋅(-I_d⋅β + I_f)⎞\n",
       "     γ⋅⎜-1 + ─────────────────────────⎟\n",
       "       ⎝      α⋅(-β + η)⋅(Iₐ⋅θ - I_f) ⎠\n",
       "Fₐ = ──────────────────────────────────\n",
       "                     E                 "
      ]
     },
     "execution_count": 9,
     "metadata": {},
     "output_type": "execute_result"
    }
   ],
   "source": [
    "Eq(Fa,gamma/E*( eta/alpha*(theta-alpha)/(eta-beta)*np.divide(If_c-beta*Id_c,theta*Ia_c-If_c) -1))"
   ]
  },
  {
   "cell_type": "code",
   "execution_count": null,
   "metadata": {},
   "outputs": [],
   "source": []
  }
 ],
 "metadata": {
  "kernelspec": {
   "display_name": "Python [default]",
   "language": "python",
   "name": "python3"
  },
  "language_info": {
   "codemirror_mode": {
    "name": "ipython",
    "version": 3
   },
   "file_extension": ".py",
   "mimetype": "text/x-python",
   "name": "python",
   "nbconvert_exporter": "python",
   "pygments_lexer": "ipython3",
   "version": "3.5.4"
  }
 },
 "nbformat": 4,
 "nbformat_minor": 1
}
